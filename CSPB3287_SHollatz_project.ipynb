{
 "cells": [
  {
   "cell_type": "markdown",
   "metadata": {},
   "source": [
    "### CSPB 3287 Project: Database Design for German Language App\n",
    "#### Author: Sabine Hollatz"
   ]
  },
  {
   "cell_type": "markdown",
   "metadata": {},
   "source": [
    "Video Presentation: https://drive.google.com/file/d/1hxvaB1HwkcCcQ7L44NDQhAIwdYz-qmUy/view\n",
    "Git Repository:"
   ]
  },
  {
   "cell_type": "markdown",
   "metadata": {},
   "source": [
    "### Motivation and Background\n",
    "I have worked as a German language instructor teaching adults once a week. \n",
    "People in class were motivated by having a German Spouse or Ancestors, working \n",
    "for or with German companies, wanting to immigrate to German speaking countries, \n",
    "or were just generally interested in learning the language. Even though they were \n",
    "highly motivated, they could not find the time to build their vocabulary outside of \n",
    "class. Especially memorizing articles and grammatical forms can be cumbersome. So I \n",
    "started developing a web application which will make studying German words easier, more fun and available on the go. The app is basically a matching pairs game at this point, but will be extended at some point in the future.\n",
    "Here is a link to the application: https://vocab-trainer-saholly.herokuapp.com/games\n",
    "<br><br>\n",
    "\n",
    "The previous state of the database consisted of one table, which contained a long list of potentially useful fields for nouns, adjectives and verbs, but at the moment only ~40 nouns are stored. The attributes were: word, partOfSpeech, translation1, translation2, translation3, meaning1, meaning2, article, gender, plural, thirdPersonPresent, thirdPersonPast, thirdPersonPerfect, separable, comparative, superlative, exampleSentence, user. This design includes many redundancies and null values.\n",
    "The words were added by the user, which is cumbersome and error prone, and at the moment even incomplete. All users share the same pool of words. "
   ]
  },
  {
   "cell_type": "markdown",
   "metadata": {},
   "source": [
    "### The Project\n",
    "Project Goal:\n",
    "The user will be able to choose pairs of words and match them in a grammatically correct way. Currently only a few nouns and their corresponding articles are implemented. At the end of this project different parts of speech will be available, in different cases, genders and numbers. For example, matching pairs could be adjectives and nouns following gender and case specifications.  \n",
    "\n",
    "The Database Design\n",
    "The currently existing database will be normalized into the following 6 tables: 1. translation and meaning, 2. nouns, 3. verbs, 4. adjectives/adverbs, 5. personal pronouns, and 6. users. All words in the database and their translations will be kept in one table. Each word group will get its own table and contains the corresponding grammatical forms or suffixes. For now, 1-to-1 relationships between all word tables are sufficient. Proposed was that the user table would have many-to-many relationships with all other tables, however a many-to-many relationship with the translation relation is sufficient. This is, because the translation relation is connected to all other relations. Each user will be able to maintain a specific subset of words they are interested in practicing. \n",
    "Queries will be executed at the beginning of each game, when the words are selected, and during each game when pairs are checked if they match.\n",
    "\n",
    "Tools and Interfaces\n",
    "The design will be drawn and set up in MySQL workbench, where also the MySQL queries will be developed and debugged. The database will be exported to a MySQL instance on Google Cloud or Heroku, where, potentially, the web application will be deployed as well. For communications between the app and the database, two npm packages are used: mysql2 and sequelize. Sequelize provides the object-relational mapping (ORM). If I find a suitable word list, that might need minor adjustments, I will use a jupyter notebook for that.\n",
    "\n",
    "Potential Problems\n",
    "Feeding in data can become problematic. Currently, the users would input data themselves without error checking. To keep the database clean, I would like to build a word pool, that is certainly correct. Part of my project is to find suitable data for my design to fill the database. The worst case szenario is that I would need to maintain the data by hand. \n",
    "\n",
    "Learning Goals\n",
    "I hope to learn how to maintain user specific subsets of a database, find secure ways to enable user input to the database by researching for and potentially adding existing word lists, matching them with my schema if time allows.\n"
   ]
  },
  {
   "cell_type": "code",
   "execution_count": 36,
   "metadata": {},
   "outputs": [],
   "source": [
    "import sqlalchemy\n",
    "from IPython.display import SVG, display, HTML\n",
    "import base64"
   ]
  },
  {
   "cell_type": "code",
   "execution_count": 2,
   "metadata": {},
   "outputs": [],
   "source": [
    "username = \"root\"\n",
    "passwd = \"Superfliege21\"\n",
    "host = \"34.94.16.68\"\n",
    "dbname = \"vocabTrainer\""
   ]
  },
  {
   "cell_type": "code",
   "execution_count": 3,
   "metadata": {},
   "outputs": [],
   "source": [
    "db_string = \"mysql://{0}:{1}@{2}/{3}\".format(\n",
    "    username, passwd, host, dbname)"
   ]
  },
  {
   "cell_type": "code",
   "execution_count": 4,
   "metadata": {},
   "outputs": [],
   "source": [
    "try:\n",
    "    engine = sqlalchemy.create_engine( db_string );\n",
    "    conn = engine.connect()\n",
    "except Exception as exp:\n",
    "    print(\"Create engine failed: \", exp)"
   ]
  },
  {
   "cell_type": "code",
   "execution_count": 27,
   "metadata": {},
   "outputs": [
    {
     "data": {
      "image/svg+xml": [
       "<svg height=\"791px\" version=\"1.1\" width=\"1021px\" xmlns=\"http://www.w3.org/2000/svg\" xmlns:xlink=\"http://www.w3.org/1999/xlink\"><defs/><g transform=\"translate(0.5,0.5)\"><g transform=\"translate(389.5,15.5)\"><switch><foreignObject height=\"19\" pointer-events=\"all\" requiredFeatures=\"http://www.w3.org/TR/SVG11/feature#Extensibility\" style=\"overflow:visible;\" width=\"260\"><div style=\"display: inline-block; font-size: 12px; font-family: Helvetica; color: rgb(0, 0, 0); line-height: 1.2; vertical-align: top; width: 260px; white-space: nowrap; overflow-wrap: normal; text-align: center;\" xmlns=\"http://www.w3.org/1999/xhtml\"><div style=\"display:inline-block;text-align:inherit;text-decoration:inherit;\" xmlns=\"http://www.w3.org/1999/xhtml\"><b><u><font style=\"font-size: 18px\">E/R Diagram for Vocab-Trainer</font></u></b></div></div></foreignObject><text fill=\"#000000\" font-family=\"Helvetica\" font-size=\"12px\" text-anchor=\"middle\" x=\"130\" y=\"16\">&lt;b&gt;&lt;u&gt;&lt;font style=&quot;font-size: 18px&quot;&gt;E/R Diagram for Vocab-Trainer&lt;/font&gt;&lt;/u&gt;&lt;/b&gt;</text></switch></g><ellipse cx=\"105\" cy=\"325\" fill=\"#d5e8d4\" pointer-events=\"none\" rx=\"45\" ry=\"20\" stroke=\"#000000\"/><g transform=\"translate(77.5,318.5)\"><switch><foreignObject height=\"12\" pointer-events=\"all\" requiredFeatures=\"http://www.w3.org/TR/SVG11/feature#Extensibility\" style=\"overflow:visible;\" width=\"54\"><div style=\"display: inline-block; font-size: 12px; font-family: Helvetica; color: rgb(0, 0, 0); line-height: 1.2; vertical-align: top; width: 54px; white-space: nowrap; overflow-wrap: normal; text-align: center;\" xmlns=\"http://www.w3.org/1999/xhtml\"><div style=\"display:inline-block;text-align:inherit;text-decoration:inherit;\" xmlns=\"http://www.w3.org/1999/xhtml\"><u>username</u></div></div></foreignObject><text fill=\"#000000\" font-family=\"Helvetica\" font-size=\"12px\" text-anchor=\"middle\" x=\"27\" y=\"12\">&lt;u&gt;username&lt;/u&gt;</text></switch></g><path d=\"M 155 405 L 105 345\" fill=\"none\" pointer-events=\"none\" stroke=\"#67ab9f\" stroke-miterlimit=\"10\"/><rect fill=\"#ffffcc\" height=\"60\" pointer-events=\"none\" rx=\"9\" ry=\"9\" stroke=\"#000000\" width=\"120\" x=\"120\" y=\"405\"/><g transform=\"translate(163.5,428.5)\"><switch><foreignObject height=\"12\" pointer-events=\"all\" requiredFeatures=\"http://www.w3.org/TR/SVG11/feature#Extensibility\" style=\"overflow:visible;\" width=\"32\"><div style=\"display: inline-block; font-size: 12px; font-family: Helvetica; color: rgb(0, 0, 0); line-height: 1.2; vertical-align: top; width: 32px; white-space: nowrap; overflow-wrap: normal; text-align: center;\" xmlns=\"http://www.w3.org/1999/xhtml\"><div style=\"display:inline-block;text-align:inherit;text-decoration:inherit;\" xmlns=\"http://www.w3.org/1999/xhtml\">Users</div></div></foreignObject><text fill=\"#000000\" font-family=\"Helvetica\" font-size=\"12px\" text-anchor=\"middle\" x=\"16\" y=\"12\">Users</text></switch></g><rect fill=\"#ffffcc\" height=\"60\" pointer-events=\"none\" rx=\"9\" ry=\"9\" stroke=\"#000000\" width=\"120\" x=\"385\" y=\"405\"/><g transform=\"translate(427.5,428.5)\"><switch><foreignObject height=\"12\" pointer-events=\"all\" requiredFeatures=\"http://www.w3.org/TR/SVG11/feature#Extensibility\" style=\"overflow:visible;\" width=\"34\"><div style=\"display: inline-block; font-size: 12px; font-family: Helvetica; color: rgb(0, 0, 0); line-height: 1.2; vertical-align: top; width: 36px; white-space: nowrap; overflow-wrap: normal; text-align: center;\" xmlns=\"http://www.w3.org/1999/xhtml\"><div style=\"display:inline-block;text-align:inherit;text-decoration:inherit;\" xmlns=\"http://www.w3.org/1999/xhtml\">Words</div></div></foreignObject><text fill=\"#000000\" font-family=\"Helvetica\" font-size=\"12px\" text-anchor=\"middle\" x=\"17\" y=\"12\">Words</text></switch></g><rect fill=\"#ffffcc\" height=\"60\" pointer-events=\"none\" rx=\"9\" ry=\"9\" stroke=\"#000000\" width=\"120\" x=\"605\" y=\"150\"/><g transform=\"translate(647.5,173.5)\"><switch><foreignObject height=\"12\" pointer-events=\"all\" requiredFeatures=\"http://www.w3.org/TR/SVG11/feature#Extensibility\" style=\"overflow:visible;\" width=\"34\"><div style=\"display: inline-block; font-size: 12px; font-family: Helvetica; color: rgb(0, 0, 0); line-height: 1.2; vertical-align: top; width: 36px; white-space: nowrap; overflow-wrap: normal; text-align: center;\" xmlns=\"http://www.w3.org/1999/xhtml\"><div style=\"display:inline-block;text-align:inherit;text-decoration:inherit;\" xmlns=\"http://www.w3.org/1999/xhtml\">Nouns</div></div></foreignObject><text fill=\"#000000\" font-family=\"Helvetica\" font-size=\"12px\" text-anchor=\"middle\" x=\"17\" y=\"12\">Nouns</text></switch></g><rect fill=\"#ffffcc\" height=\"60\" pointer-events=\"none\" rx=\"9\" ry=\"9\" stroke=\"#000000\" width=\"120\" x=\"700\" y=\"380\"/><g transform=\"translate(744.5,403.5)\"><switch><foreignObject height=\"12\" pointer-events=\"all\" requiredFeatures=\"http://www.w3.org/TR/SVG11/feature#Extensibility\" style=\"overflow:visible;\" width=\"30\"><div style=\"display: inline-block; font-size: 12px; font-family: Helvetica; color: rgb(0, 0, 0); line-height: 1.2; vertical-align: top; width: 32px; white-space: nowrap; overflow-wrap: normal; text-align: center;\" xmlns=\"http://www.w3.org/1999/xhtml\"><div style=\"display:inline-block;text-align:inherit;text-decoration:inherit;\" xmlns=\"http://www.w3.org/1999/xhtml\">Verbs</div></div></foreignObject><text fill=\"#000000\" font-family=\"Helvetica\" font-size=\"12px\" text-anchor=\"middle\" x=\"15\" y=\"12\">Verbs</text></switch></g><rect fill=\"#ffffcc\" height=\"60\" pointer-events=\"none\" rx=\"9\" ry=\"9\" stroke=\"#000000\" width=\"120\" x=\"735\" y=\"580\"/><g transform=\"translate(767.5,603.5)\"><switch><foreignObject height=\"12\" pointer-events=\"all\" requiredFeatures=\"http://www.w3.org/TR/SVG11/feature#Extensibility\" style=\"overflow:visible;\" width=\"54\"><div style=\"display: inline-block; font-size: 12px; font-family: Helvetica; color: rgb(0, 0, 0); line-height: 1.2; vertical-align: top; width: 56px; white-space: nowrap; overflow-wrap: normal; text-align: center;\" xmlns=\"http://www.w3.org/1999/xhtml\"><div style=\"display:inline-block;text-align:inherit;text-decoration:inherit;\" xmlns=\"http://www.w3.org/1999/xhtml\">Adjectives</div></div></foreignObject><text fill=\"#000000\" font-family=\"Helvetica\" font-size=\"12px\" text-anchor=\"middle\" x=\"27\" y=\"12\">Adjectives</text></switch></g><rect fill=\"#ffffcc\" height=\"60\" pointer-events=\"none\" rx=\"9\" ry=\"9\" stroke=\"#000000\" width=\"120\" x=\"595\" y=\"730\"/><g transform=\"translate(603.5,753.5)\"><switch><foreignObject height=\"12\" pointer-events=\"all\" requiredFeatures=\"http://www.w3.org/TR/SVG11/feature#Extensibility\" style=\"overflow:visible;\" width=\"102\"><div style=\"display: inline-block; font-size: 12px; font-family: Helvetica; color: rgb(0, 0, 0); line-height: 1.2; vertical-align: top; width: 104px; white-space: nowrap; overflow-wrap: normal; text-align: center;\" xmlns=\"http://www.w3.org/1999/xhtml\"><div style=\"display:inline-block;text-align:inherit;text-decoration:inherit;\" xmlns=\"http://www.w3.org/1999/xhtml\">Personal Pronouns</div></div></foreignObject><text fill=\"#000000\" font-family=\"Helvetica\" font-size=\"12px\" text-anchor=\"middle\" x=\"51\" y=\"12\">Personal Pronouns</text></switch></g><path d=\"M 555 230 L 580 255 L 555 280 L 530 255 Z\" fill=\"#d4e1f5\" pointer-events=\"none\" stroke=\"#000000\" stroke-miterlimit=\"10\"/><g transform=\"translate(546.5,248.5)\"><switch><foreignObject height=\"12\" pointer-events=\"all\" requiredFeatures=\"http://www.w3.org/TR/SVG11/feature#Extensibility\" style=\"overflow:visible;\" width=\"16\"><div style=\"display: inline-block; font-size: 12px; font-family: Helvetica; color: rgb(0, 0, 0); line-height: 1.2; vertical-align: top; width: 18px; white-space: nowrap; overflow-wrap: normal; text-align: center;\" xmlns=\"http://www.w3.org/1999/xhtml\"><div style=\"display:inline-block;text-align:inherit;text-decoration:inherit;\" xmlns=\"http://www.w3.org/1999/xhtml\">isA</div></div></foreignObject><text fill=\"#000000\" font-family=\"Helvetica\" font-size=\"12px\" text-anchor=\"middle\" x=\"8\" y=\"12\">isA</text></switch></g><path d=\"M 595 390 L 620 415 L 595 440 L 570 415 Z\" fill=\"#d4e1f5\" pointer-events=\"none\" stroke=\"#000000\" stroke-miterlimit=\"10\"/><g transform=\"translate(586.5,408.5)\"><switch><foreignObject height=\"12\" pointer-events=\"all\" requiredFeatures=\"http://www.w3.org/TR/SVG11/feature#Extensibility\" style=\"overflow:visible;\" width=\"16\"><div style=\"display: inline-block; font-size: 12px; font-family: Helvetica; color: rgb(0, 0, 0); line-height: 1.2; vertical-align: top; width: 18px; white-space: nowrap; overflow-wrap: normal; text-align: center;\" xmlns=\"http://www.w3.org/1999/xhtml\"><div style=\"display:inline-block;text-align:inherit;text-decoration:inherit;\" xmlns=\"http://www.w3.org/1999/xhtml\">isA</div></div></foreignObject><text fill=\"#000000\" font-family=\"Helvetica\" font-size=\"12px\" text-anchor=\"middle\" x=\"8\" y=\"12\">isA</text></switch></g><path d=\"M 595 465 L 620 490 L 595 515 L 570 490 Z\" fill=\"#d4e1f5\" pointer-events=\"none\" stroke=\"#000000\" stroke-miterlimit=\"10\"/><g transform=\"translate(586.5,483.5)\"><switch><foreignObject height=\"12\" pointer-events=\"all\" requiredFeatures=\"http://www.w3.org/TR/SVG11/feature#Extensibility\" style=\"overflow:visible;\" width=\"16\"><div style=\"display: inline-block; font-size: 12px; font-family: Helvetica; color: rgb(0, 0, 0); line-height: 1.2; vertical-align: top; width: 18px; white-space: nowrap; overflow-wrap: normal; text-align: center;\" xmlns=\"http://www.w3.org/1999/xhtml\"><div style=\"display:inline-block;text-align:inherit;text-decoration:inherit;\" xmlns=\"http://www.w3.org/1999/xhtml\">isA</div></div></foreignObject><text fill=\"#000000\" font-family=\"Helvetica\" font-size=\"12px\" text-anchor=\"middle\" x=\"8\" y=\"12\">isA</text></switch></g><path d=\"M 555 575 L 580 600 L 555 625 L 530 600 Z\" fill=\"#d4e1f5\" pointer-events=\"none\" stroke=\"#000000\" stroke-miterlimit=\"10\"/><g transform=\"translate(546.5,593.5)\"><switch><foreignObject height=\"12\" pointer-events=\"all\" requiredFeatures=\"http://www.w3.org/TR/SVG11/feature#Extensibility\" style=\"overflow:visible;\" width=\"16\"><div style=\"display: inline-block; font-size: 12px; font-family: Helvetica; color: rgb(0, 0, 0); line-height: 1.2; vertical-align: top; width: 18px; white-space: nowrap; overflow-wrap: normal; text-align: center;\" xmlns=\"http://www.w3.org/1999/xhtml\"><div style=\"display:inline-block;text-align:inherit;text-decoration:inherit;\" xmlns=\"http://www.w3.org/1999/xhtml\">isA</div></div></foreignObject><text fill=\"#000000\" font-family=\"Helvetica\" font-size=\"12px\" text-anchor=\"middle\" x=\"8\" y=\"12\">isA</text></switch></g><path d=\"M 350 435 L 385 435\" fill=\"none\" pointer-events=\"none\" stroke=\"#000000\" stroke-miterlimit=\"10\"/><path d=\"M 315 410 L 350 435 L 315 460 L 280 435 Z\" fill=\"#d4e1f5\" pointer-events=\"none\" stroke=\"#000000\" stroke-miterlimit=\"10\"/><g transform=\"translate(286.5,428.5)\"><switch><foreignObject height=\"12\" pointer-events=\"all\" requiredFeatures=\"http://www.w3.org/TR/SVG11/feature#Extensibility\" style=\"overflow:visible;\" width=\"56\"><div style=\"display: inline-block; font-size: 12px; font-family: Helvetica; color: rgb(0, 0, 0); line-height: 1.2; vertical-align: top; width: 56px; white-space: nowrap; overflow-wrap: normal; text-align: center;\" xmlns=\"http://www.w3.org/1999/xhtml\"><div style=\"display:inline-block;text-align:inherit;text-decoration:inherit;\" xmlns=\"http://www.w3.org/1999/xhtml\">worksWith</div></div></foreignObject><text fill=\"#000000\" font-family=\"Helvetica\" font-size=\"12px\" text-anchor=\"middle\" x=\"28\" y=\"12\">worksWith</text></switch></g><path d=\"M 240 435 L 280 435\" fill=\"none\" pointer-events=\"none\" stroke=\"#000000\" stroke-miterlimit=\"10\"/><path d=\"M 506.7 398.86 L 541.3 274.14\" fill=\"none\" pointer-events=\"none\" stroke=\"#000000\" stroke-miterlimit=\"10\"/><path d=\"M 505.3 403.92 L 503.8 396.24 L 506.7 398.86 L 510.54 398.11 Z\" fill=\"#000000\" pointer-events=\"none\" stroke=\"#000000\" stroke-miterlimit=\"10\"/><path d=\"M 542.7 269.08 L 544.2 276.76 L 541.3 274.14 L 537.46 274.89 Z\" fill=\"#000000\" pointer-events=\"none\" stroke=\"#000000\" stroke-miterlimit=\"10\"/><path d=\"M 571.22 237.51 L 601.78 185.49\" fill=\"none\" pointer-events=\"none\" stroke=\"#000000\" stroke-miterlimit=\"10\"/><path d=\"M 568.57 242.04 L 569.09 234.23 L 571.22 237.51 L 575.13 237.77 Z\" fill=\"#000000\" pointer-events=\"none\" stroke=\"#000000\" stroke-miterlimit=\"10\"/><path d=\"M 604.43 180.96 L 603.91 188.77 L 601.78 185.49 L 597.87 185.23 Z\" fill=\"#000000\" pointer-events=\"none\" stroke=\"#000000\" stroke-miterlimit=\"10\"/><path d=\"M 511.35 419.51 L 563.65 415.49\" fill=\"none\" pointer-events=\"none\" stroke=\"#000000\" stroke-miterlimit=\"10\"/><path d=\"M 506.11 419.91 L 512.83 415.89 L 511.35 419.51 L 513.36 422.87 Z\" fill=\"#000000\" pointer-events=\"none\" stroke=\"#000000\" stroke-miterlimit=\"10\"/><path d=\"M 568.89 415.09 L 562.17 419.11 L 563.65 415.49 L 561.64 412.13 Z\" fill=\"#000000\" pointer-events=\"none\" stroke=\"#000000\" stroke-miterlimit=\"10\"/><path d=\"M 626.36 414.6 L 693.64 410.4\" fill=\"none\" pointer-events=\"none\" stroke=\"#000000\" stroke-miterlimit=\"10\"/><path d=\"M 621.12 414.93 L 627.88 411 L 626.36 414.6 L 628.32 417.99 Z\" fill=\"#000000\" pointer-events=\"none\" stroke=\"#000000\" stroke-miterlimit=\"10\"/><path d=\"M 698.88 410.07 L 692.12 414 L 693.64 410.4 L 691.68 407.01 Z\" fill=\"#000000\" pointer-events=\"none\" stroke=\"#000000\" stroke-miterlimit=\"10\"/><path d=\"M 509.86 439.11 L 565.14 485.89\" fill=\"none\" pointer-events=\"none\" stroke=\"#000000\" stroke-miterlimit=\"10\"/><path d=\"M 505.85 435.72 L 513.46 437.57 L 509.86 439.11 L 508.94 442.92 Z\" fill=\"#000000\" pointer-events=\"none\" stroke=\"#000000\" stroke-miterlimit=\"10\"/><path d=\"M 569.15 489.28 L 561.54 487.43 L 565.14 485.89 L 566.06 482.08 Z\" fill=\"#000000\" pointer-events=\"none\" stroke=\"#000000\" stroke-miterlimit=\"10\"/><path d=\"M 624.41 494.6 L 730.59 605.4\" fill=\"none\" pointer-events=\"none\" stroke=\"#000000\" stroke-miterlimit=\"10\"/><path d=\"M 620.77 490.81 L 628.14 493.44 L 624.41 494.6 L 623.09 498.28 Z\" fill=\"#000000\" pointer-events=\"none\" stroke=\"#000000\" stroke-miterlimit=\"10\"/><path d=\"M 734.23 609.19 L 726.86 606.56 L 730.59 605.4 L 731.91 601.72 Z\" fill=\"#000000\" pointer-events=\"none\" stroke=\"#000000\" stroke-miterlimit=\"10\"/><path d=\"M 502.03 466.04 L 540.97 581.96\" fill=\"none\" pointer-events=\"none\" stroke=\"#000000\" stroke-miterlimit=\"10\"/><path d=\"M 500.36 461.06 L 505.9 466.58 L 502.03 466.04 L 499.27 468.81 Z\" fill=\"#000000\" pointer-events=\"none\" stroke=\"#000000\" stroke-miterlimit=\"10\"/><path d=\"M 542.64 586.94 L 537.1 581.42 L 540.97 581.96 L 543.73 579.19 Z\" fill=\"#000000\" pointer-events=\"none\" stroke=\"#000000\" stroke-miterlimit=\"10\"/><path d=\"M 569.15 619.26 L 593.85 753.74\" fill=\"none\" pointer-events=\"none\" stroke=\"#000000\" stroke-miterlimit=\"10\"/><path d=\"M 568.2 614.1 L 572.91 620.35 L 569.15 619.26 L 566.02 621.62 Z\" fill=\"#000000\" pointer-events=\"none\" stroke=\"#000000\" stroke-miterlimit=\"10\"/><path d=\"M 594.8 758.9 L 590.09 752.65 L 593.85 753.74 L 596.98 751.38 Z\" fill=\"#000000\" pointer-events=\"none\" stroke=\"#000000\" stroke-miterlimit=\"10\"/><ellipse cx=\"215\" cy=\"320\" fill=\"#d5e8d4\" pointer-events=\"none\" rx=\"45\" ry=\"20\" stroke=\"#000000\"/><g transform=\"translate(188.5,313.5)\"><switch><foreignObject height=\"12\" pointer-events=\"all\" requiredFeatures=\"http://www.w3.org/TR/SVG11/feature#Extensibility\" style=\"overflow:visible;\" width=\"52\"><div style=\"display: inline-block; font-size: 12px; font-family: Helvetica; color: rgb(0, 0, 0); line-height: 1.2; vertical-align: top; width: 52px; white-space: nowrap; overflow-wrap: normal; text-align: center;\" xmlns=\"http://www.w3.org/1999/xhtml\"><div style=\"display:inline-block;text-align:inherit;text-decoration:inherit;\" xmlns=\"http://www.w3.org/1999/xhtml\">password</div></div></foreignObject><text fill=\"#000000\" font-family=\"Helvetica\" font-size=\"12px\" text-anchor=\"middle\" x=\"26\" y=\"12\">password</text></switch></g><path d=\"M 180 405 L 215 340\" fill=\"none\" pointer-events=\"none\" stroke=\"#67ab9f\" stroke-miterlimit=\"10\"/><ellipse cx=\"455\" cy=\"340\" fill=\"#d5e8d4\" pointer-events=\"none\" rx=\"45\" ry=\"20\" stroke=\"#000000\"/><g transform=\"translate(426.5,333.5)\"><switch><foreignObject height=\"12\" pointer-events=\"all\" requiredFeatures=\"http://www.w3.org/TR/SVG11/feature#Extensibility\" style=\"overflow:visible;\" width=\"56\"><div style=\"display: inline-block; font-size: 12px; font-family: Helvetica; color: rgb(0, 0, 0); line-height: 1.2; vertical-align: top; width: 56px; white-space: nowrap; overflow-wrap: normal; text-align: center;\" xmlns=\"http://www.w3.org/1999/xhtml\"><div style=\"display:inline-block;text-align:inherit;text-decoration:inherit;\" xmlns=\"http://www.w3.org/1999/xhtml\">translation</div></div></foreignObject><text fill=\"#000000\" font-family=\"Helvetica\" font-size=\"12px\" text-anchor=\"middle\" x=\"28\" y=\"12\">translation</text></switch></g><ellipse cx=\"355\" cy=\"340\" fill=\"#d5e8d4\" pointer-events=\"none\" rx=\"45\" ry=\"20\" stroke=\"#000000\"/><g transform=\"translate(341.5,333.5)\"><switch><foreignObject height=\"12\" pointer-events=\"all\" requiredFeatures=\"http://www.w3.org/TR/SVG11/feature#Extensibility\" style=\"overflow:visible;\" width=\"26\"><div style=\"display: inline-block; font-size: 12px; font-family: Helvetica; color: rgb(0, 0, 0); line-height: 1.2; vertical-align: top; width: 28px; white-space: nowrap; overflow-wrap: normal; text-align: center;\" xmlns=\"http://www.w3.org/1999/xhtml\"><div style=\"display:inline-block;text-align:inherit;text-decoration:inherit;\" xmlns=\"http://www.w3.org/1999/xhtml\"><u>word</u></div></div></foreignObject><text fill=\"#000000\" font-family=\"Helvetica\" font-size=\"12px\" text-anchor=\"middle\" x=\"13\" y=\"12\">[Not supported by viewer]</text></switch></g><path d=\"M 372.32 358.46 L 416.58 405\" fill=\"none\" pointer-events=\"none\" stroke=\"#67ab9f\" stroke-miterlimit=\"10\"/><path d=\"M 451.93 359.95 L 445 405\" fill=\"none\" pointer-events=\"none\" stroke=\"#67ab9f\" stroke-miterlimit=\"10\"/><rect fill=\"#ffffcc\" height=\"60\" pointer-events=\"none\" rx=\"9\" ry=\"9\" stroke=\"#000000\" width=\"120\" x=\"350\" y=\"515\"/><g transform=\"translate(393.5,538.5)\"><switch><foreignObject height=\"12\" pointer-events=\"all\" requiredFeatures=\"http://www.w3.org/TR/SVG11/feature#Extensibility\" style=\"overflow:visible;\" width=\"32\"><div style=\"display: inline-block; font-size: 12px; font-family: Helvetica; color: rgb(0, 0, 0); line-height: 1.2; vertical-align: top; width: 32px; white-space: nowrap; overflow-wrap: normal; text-align: center;\" xmlns=\"http://www.w3.org/1999/xhtml\"><div style=\"display:inline-block;text-align:inherit;text-decoration:inherit;\" xmlns=\"http://www.w3.org/1999/xhtml\">Roots</div></div></foreignObject><text fill=\"#000000\" font-family=\"Helvetica\" font-size=\"12px\" text-anchor=\"middle\" x=\"16\" y=\"12\">Roots</text></switch></g><ellipse cx=\"655\" cy=\"685\" fill=\"#d5e8d4\" pointer-events=\"none\" rx=\"35\" ry=\"15\" stroke=\"#000000\"/><g transform=\"translate(636.5,678.5)\"><switch><foreignObject height=\"12\" pointer-events=\"all\" requiredFeatures=\"http://www.w3.org/TR/SVG11/feature#Extensibility\" style=\"overflow:visible;\" width=\"36\"><div style=\"display: inline-block; font-size: 12px; font-family: Helvetica; color: rgb(0, 0, 0); line-height: 1.2; vertical-align: top; width: 38px; white-space: nowrap; overflow-wrap: normal; text-align: center;\" xmlns=\"http://www.w3.org/1999/xhtml\"><div style=\"display:inline-block;text-align:inherit;text-decoration:inherit;\" xmlns=\"http://www.w3.org/1999/xhtml\">person</div></div></foreignObject><text fill=\"#000000\" font-family=\"Helvetica\" font-size=\"12px\" text-anchor=\"middle\" x=\"18\" y=\"12\">person</text></switch></g><ellipse cx=\"745\" cy=\"700\" fill=\"#d5e8d4\" pointer-events=\"none\" rx=\"45\" ry=\"20\" stroke=\"#000000\"/><g transform=\"translate(701.5,686.5)\"><switch><foreignObject height=\"26\" pointer-events=\"all\" requiredFeatures=\"http://www.w3.org/TR/SVG11/feature#Extensibility\" style=\"overflow:visible;\" width=\"86\"><div style=\"display: inline-block; font-size: 12px; font-family: Helvetica; color: rgb(0, 0, 0); line-height: 1.2; vertical-align: top; width: 86px; white-space: normal; overflow-wrap: normal; text-align: center;\" xmlns=\"http://www.w3.org/1999/xhtml\"><div style=\"display:inline-block;text-align:inherit;text-decoration:inherit;\" xmlns=\"http://www.w3.org/1999/xhtml\">grammatical number</div></div></foreignObject><text fill=\"#000000\" font-family=\"Helvetica\" font-size=\"12px\" text-anchor=\"middle\" x=\"43\" y=\"19\">grammatical number</text></switch></g><ellipse cx=\"795\" cy=\"740\" fill=\"#d5e8d4\" pointer-events=\"none\" rx=\"35\" ry=\"15\" stroke=\"#000000\"/><g transform=\"translate(775.5,733.5)\"><switch><foreignObject height=\"12\" pointer-events=\"all\" requiredFeatures=\"http://www.w3.org/TR/SVG11/feature#Extensibility\" style=\"overflow:visible;\" width=\"38\"><div style=\"display: inline-block; font-size: 12px; font-family: Helvetica; color: rgb(0, 0, 0); line-height: 1.2; vertical-align: top; width: 38px; white-space: nowrap; overflow-wrap: normal; text-align: center;\" xmlns=\"http://www.w3.org/1999/xhtml\"><div style=\"display:inline-block;text-align:inherit;text-decoration:inherit;\" xmlns=\"http://www.w3.org/1999/xhtml\">gender</div></div></foreignObject><text fill=\"#000000\" font-family=\"Helvetica\" font-size=\"12px\" text-anchor=\"middle\" x=\"19\" y=\"12\">gender</text></switch></g><ellipse cx=\"805\" cy=\"775\" fill=\"#d5e8d4\" pointer-events=\"none\" rx=\"35\" ry=\"15\" stroke=\"#000000\"/><g transform=\"translate(791.5,768.5)\"><switch><foreignObject height=\"12\" pointer-events=\"all\" requiredFeatures=\"http://www.w3.org/TR/SVG11/feature#Extensibility\" style=\"overflow:visible;\" width=\"26\"><div style=\"display: inline-block; font-size: 12px; font-family: Helvetica; color: rgb(0, 0, 0); line-height: 1.2; vertical-align: top; width: 26px; white-space: nowrap; overflow-wrap: normal; text-align: center;\" xmlns=\"http://www.w3.org/1999/xhtml\"><div style=\"display:inline-block;text-align:inherit;text-decoration:inherit;\" xmlns=\"http://www.w3.org/1999/xhtml\">case</div></div></foreignObject><text fill=\"#000000\" font-family=\"Helvetica\" font-size=\"12px\" text-anchor=\"middle\" x=\"13\" y=\"12\">case</text></switch></g><path d=\"M 655 730 L 665 701\" fill=\"none\" pointer-events=\"none\" stroke=\"#67ab9f\" stroke-miterlimit=\"10\"/><path d=\"M 694 732 L 713 714\" fill=\"none\" pointer-events=\"none\" stroke=\"#67ab9f\" stroke-miterlimit=\"10\"/><path d=\"M 717 752 L 760 740\" fill=\"none\" pointer-events=\"none\" stroke=\"#67ab9f\" stroke-miterlimit=\"10\"/><path d=\"M 719 782 L 770 775\" fill=\"none\" pointer-events=\"none\" stroke=\"#67ab9f\" stroke-miterlimit=\"10\"/><ellipse cx=\"715\" cy=\"540\" fill=\"#d5e8d4\" pointer-events=\"none\" rx=\"45\" ry=\"20\" stroke=\"#000000\"/><g transform=\"translate(671.5,526.5)\"><switch><foreignObject height=\"26\" pointer-events=\"all\" requiredFeatures=\"http://www.w3.org/TR/SVG11/feature#Extensibility\" style=\"overflow:visible;\" width=\"86\"><div style=\"display: inline-block; font-size: 12px; font-family: Helvetica; color: rgb(0, 0, 0); line-height: 1.2; vertical-align: top; width: 86px; white-space: normal; overflow-wrap: normal; text-align: center;\" xmlns=\"http://www.w3.org/1999/xhtml\"><div style=\"display:inline-block;text-align:inherit;text-decoration:inherit;\" xmlns=\"http://www.w3.org/1999/xhtml\">grammatical number</div></div></foreignObject><text fill=\"#000000\" font-family=\"Helvetica\" font-size=\"12px\" text-anchor=\"middle\" x=\"43\" y=\"19\">grammatical number</text></switch></g><path d=\"M 739 578 L 715 560\" fill=\"none\" pointer-events=\"none\" stroke=\"#67ab9f\" stroke-miterlimit=\"10\"/><ellipse cx=\"775\" cy=\"500\" fill=\"#d5e8d4\" pointer-events=\"none\" rx=\"35\" ry=\"15\" stroke=\"#000000\"/><g transform=\"translate(755.5,493.5)\"><switch><foreignObject height=\"12\" pointer-events=\"all\" requiredFeatures=\"http://www.w3.org/TR/SVG11/feature#Extensibility\" style=\"overflow:visible;\" width=\"38\"><div style=\"display: inline-block; font-size: 12px; font-family: Helvetica; color: rgb(0, 0, 0); line-height: 1.2; vertical-align: top; width: 38px; white-space: nowrap; overflow-wrap: normal; text-align: center;\" xmlns=\"http://www.w3.org/1999/xhtml\"><div style=\"display:inline-block;text-align:inherit;text-decoration:inherit;\" xmlns=\"http://www.w3.org/1999/xhtml\">gender</div></div></foreignObject><text fill=\"#000000\" font-family=\"Helvetica\" font-size=\"12px\" text-anchor=\"middle\" x=\"19\" y=\"12\">gender</text></switch></g><path d=\"M 778 578 L 775 515\" fill=\"none\" pointer-events=\"none\" stroke=\"#67ab9f\" stroke-miterlimit=\"10\"/><ellipse cx=\"820\" cy=\"530\" fill=\"#d5e8d4\" pointer-events=\"none\" rx=\"35\" ry=\"15\" stroke=\"#000000\"/><g transform=\"translate(806.5,523.5)\"><switch><foreignObject height=\"12\" pointer-events=\"all\" requiredFeatures=\"http://www.w3.org/TR/SVG11/feature#Extensibility\" style=\"overflow:visible;\" width=\"26\"><div style=\"display: inline-block; font-size: 12px; font-family: Helvetica; color: rgb(0, 0, 0); line-height: 1.2; vertical-align: top; width: 26px; white-space: nowrap; overflow-wrap: normal; text-align: center;\" xmlns=\"http://www.w3.org/1999/xhtml\"><div style=\"display:inline-block;text-align:inherit;text-decoration:inherit;\" xmlns=\"http://www.w3.org/1999/xhtml\">case</div></div></foreignObject><text fill=\"#000000\" font-family=\"Helvetica\" font-size=\"12px\" text-anchor=\"middle\" x=\"13\" y=\"12\">case</text></switch></g><path d=\"M 818 579 L 820 545\" fill=\"none\" pointer-events=\"none\" stroke=\"#67ab9f\" stroke-miterlimit=\"10\"/><ellipse cx=\"904\" cy=\"540\" fill=\"#d5e8d4\" pointer-events=\"none\" rx=\"35\" ry=\"15\" stroke=\"#000000\"/><g transform=\"translate(870.5,533.5)\"><switch><foreignObject height=\"12\" pointer-events=\"all\" requiredFeatures=\"http://www.w3.org/TR/SVG11/feature#Extensibility\" style=\"overflow:visible;\" width=\"66\"><div style=\"display: inline-block; font-size: 12px; font-family: Helvetica; color: rgb(0, 0, 0); line-height: 1.2; vertical-align: top; width: 66px; white-space: nowrap; overflow-wrap: normal; text-align: center;\" xmlns=\"http://www.w3.org/1999/xhtml\"><div style=\"display:inline-block;text-align:inherit;text-decoration:inherit;\" xmlns=\"http://www.w3.org/1999/xhtml\">comparative</div></div></foreignObject><text fill=\"#000000\" font-family=\"Helvetica\" font-size=\"12px\" text-anchor=\"middle\" x=\"33\" y=\"12\">comparative</text></switch></g><path d=\"M 848 580 L 879 551\" fill=\"none\" pointer-events=\"none\" stroke=\"#67ab9f\" stroke-miterlimit=\"10\"/><ellipse cx=\"925\" cy=\"580\" fill=\"#d5e8d4\" pointer-events=\"none\" rx=\"35\" ry=\"15\" stroke=\"#000000\"/><g transform=\"translate(895.5,573.5)\"><switch><foreignObject height=\"12\" pointer-events=\"all\" requiredFeatures=\"http://www.w3.org/TR/SVG11/feature#Extensibility\" style=\"overflow:visible;\" width=\"58\"><div style=\"display: inline-block; font-size: 12px; font-family: Helvetica; color: rgb(0, 0, 0); line-height: 1.2; vertical-align: top; width: 60px; white-space: nowrap; overflow-wrap: normal; text-align: center;\" xmlns=\"http://www.w3.org/1999/xhtml\"><div style=\"display:inline-block;text-align:inherit;text-decoration:inherit;\" xmlns=\"http://www.w3.org/1999/xhtml\">superlative</div></div></foreignObject><text fill=\"#000000\" font-family=\"Helvetica\" font-size=\"12px\" text-anchor=\"middle\" x=\"29\" y=\"12\">superlative</text></switch></g><path d=\"M 855 595 L 890 580\" fill=\"none\" pointer-events=\"none\" stroke=\"#67ab9f\" stroke-miterlimit=\"10\"/><ellipse cx=\"670\" cy=\"340\" fill=\"#d5e8d4\" pointer-events=\"none\" rx=\"35\" ry=\"15\" stroke=\"#000000\"/><g transform=\"translate(651.5,333.5)\"><switch><foreignObject height=\"12\" pointer-events=\"all\" requiredFeatures=\"http://www.w3.org/TR/SVG11/feature#Extensibility\" style=\"overflow:visible;\" width=\"36\"><div style=\"display: inline-block; font-size: 12px; font-family: Helvetica; color: rgb(0, 0, 0); line-height: 1.2; vertical-align: top; width: 38px; white-space: nowrap; overflow-wrap: normal; text-align: center;\" xmlns=\"http://www.w3.org/1999/xhtml\"><div style=\"display:inline-block;text-align:inherit;text-decoration:inherit;\" xmlns=\"http://www.w3.org/1999/xhtml\">person</div></div></foreignObject><text fill=\"#000000\" font-family=\"Helvetica\" font-size=\"12px\" text-anchor=\"middle\" x=\"18\" y=\"12\">person</text></switch></g><path d=\"M 700 395 L 677.97 354.61\" fill=\"none\" pointer-events=\"none\" stroke=\"#67ab9f\" stroke-miterlimit=\"10\"/><ellipse cx=\"715\" cy=\"300\" fill=\"#d5e8d4\" pointer-events=\"none\" rx=\"45\" ry=\"20\" stroke=\"#000000\"/><g transform=\"translate(671.5,286.5)\"><switch><foreignObject height=\"26\" pointer-events=\"all\" requiredFeatures=\"http://www.w3.org/TR/SVG11/feature#Extensibility\" style=\"overflow:visible;\" width=\"86\"><div style=\"display: inline-block; font-size: 12px; font-family: Helvetica; color: rgb(0, 0, 0); line-height: 1.2; vertical-align: top; width: 86px; white-space: normal; overflow-wrap: normal; text-align: center;\" xmlns=\"http://www.w3.org/1999/xhtml\"><div style=\"display:inline-block;text-align:inherit;text-decoration:inherit;\" xmlns=\"http://www.w3.org/1999/xhtml\">grammatical number</div></div></foreignObject><text fill=\"#000000\" font-family=\"Helvetica\" font-size=\"12px\" text-anchor=\"middle\" x=\"43\" y=\"19\">grammatical number</text></switch></g><path d=\"M 742 380 L 715 320\" fill=\"none\" pointer-events=\"none\" stroke=\"#67ab9f\" stroke-miterlimit=\"10\"/><ellipse cx=\"770\" cy=\"340\" fill=\"#d5e8d4\" pointer-events=\"none\" rx=\"35\" ry=\"15\" stroke=\"#000000\"/><g transform=\"translate(747.5,333.5)\"><switch><foreignObject height=\"12\" pointer-events=\"all\" requiredFeatures=\"http://www.w3.org/TR/SVG11/feature#Extensibility\" style=\"overflow:visible;\" width=\"44\"><div style=\"display: inline-block; font-size: 12px; font-family: Helvetica; color: rgb(0, 0, 0); line-height: 1.2; vertical-align: top; width: 46px; white-space: nowrap; overflow-wrap: normal; text-align: center;\" xmlns=\"http://www.w3.org/1999/xhtml\"><div style=\"display:inline-block;text-align:inherit;text-decoration:inherit;\" xmlns=\"http://www.w3.org/1999/xhtml\">reflexive</div></div></foreignObject><text fill=\"#000000\" font-family=\"Helvetica\" font-size=\"12px\" text-anchor=\"middle\" x=\"22\" y=\"12\">reflexive</text></switch></g><path d=\"M 773 381 L 770 355\" fill=\"none\" pointer-events=\"none\" stroke=\"#67ab9f\" stroke-miterlimit=\"10\"/><ellipse cx=\"845\" cy=\"320\" fill=\"#d5e8d4\" pointer-events=\"none\" rx=\"35\" ry=\"15\" stroke=\"#000000\"/><g transform=\"translate(829.5,313.5)\"><switch><foreignObject height=\"12\" pointer-events=\"all\" requiredFeatures=\"http://www.w3.org/TR/SVG11/feature#Extensibility\" style=\"overflow:visible;\" width=\"30\"><div style=\"display: inline-block; font-size: 12px; font-family: Helvetica; color: rgb(0, 0, 0); line-height: 1.2; vertical-align: top; width: 30px; white-space: nowrap; overflow-wrap: normal; text-align: center;\" xmlns=\"http://www.w3.org/1999/xhtml\"><div style=\"display:inline-block;text-align:inherit;text-decoration:inherit;\" xmlns=\"http://www.w3.org/1999/xhtml\">tense</div></div></foreignObject><text fill=\"#000000\" font-family=\"Helvetica\" font-size=\"12px\" text-anchor=\"middle\" x=\"15\" y=\"12\">tense</text></switch></g><path d=\"M 818 380 L 845 335\" fill=\"none\" pointer-events=\"none\" stroke=\"#67ab9f\" stroke-miterlimit=\"10\"/><ellipse cx=\"895\" cy=\"355\" fill=\"#d5e8d4\" pointer-events=\"none\" rx=\"35\" ry=\"15\" stroke=\"#000000\"/><g transform=\"translate(872.5,348.5)\"><switch><foreignObject height=\"12\" pointer-events=\"all\" requiredFeatures=\"http://www.w3.org/TR/SVG11/feature#Extensibility\" style=\"overflow:visible;\" width=\"44\"><div style=\"display: inline-block; font-size: 12px; font-family: Helvetica; color: rgb(0, 0, 0); line-height: 1.2; vertical-align: top; width: 44px; white-space: nowrap; overflow-wrap: normal; text-align: center;\" xmlns=\"http://www.w3.org/1999/xhtml\"><div style=\"display:inline-block;text-align:inherit;text-decoration:inherit;\" xmlns=\"http://www.w3.org/1999/xhtml\">strength</div></div></foreignObject><text fill=\"#000000\" font-family=\"Helvetica\" font-size=\"12px\" text-anchor=\"middle\" x=\"22\" y=\"12\">strength</text></switch></g><path d=\"M 820 395 L 860 355\" fill=\"none\" pointer-events=\"none\" stroke=\"#67ab9f\" stroke-miterlimit=\"10\"/><ellipse cx=\"895\" cy=\"390\" fill=\"#d5e8d4\" pointer-events=\"none\" rx=\"35\" ry=\"15\" stroke=\"#000000\"/><g transform=\"translate(864.5,383.5)\"><switch><foreignObject height=\"12\" pointer-events=\"all\" requiredFeatures=\"http://www.w3.org/TR/SVG11/feature#Extensibility\" style=\"overflow:visible;\" width=\"60\"><div style=\"display: inline-block; font-size: 12px; font-family: Helvetica; color: rgb(0, 0, 0); line-height: 1.2; vertical-align: top; width: 62px; white-space: nowrap; overflow-wrap: normal; text-align: center;\" xmlns=\"http://www.w3.org/1999/xhtml\"><div style=\"display:inline-block;text-align:inherit;text-decoration:inherit;\" xmlns=\"http://www.w3.org/1999/xhtml\">separability</div></div></foreignObject><text fill=\"#000000\" font-family=\"Helvetica\" font-size=\"12px\" text-anchor=\"middle\" x=\"30\" y=\"12\">separability</text></switch></g><path d=\"M 820 410 L 860 390\" fill=\"none\" pointer-events=\"none\" stroke=\"#67ab9f\" stroke-miterlimit=\"10\"/><ellipse cx=\"575\" cy=\"120\" fill=\"#d5e8d4\" pointer-events=\"none\" rx=\"45\" ry=\"20\" stroke=\"#000000\"/><g transform=\"translate(531.5,106.5)\"><switch><foreignObject height=\"26\" pointer-events=\"all\" requiredFeatures=\"http://www.w3.org/TR/SVG11/feature#Extensibility\" style=\"overflow:visible;\" width=\"86\"><div style=\"display: inline-block; font-size: 12px; font-family: Helvetica; color: rgb(0, 0, 0); line-height: 1.2; vertical-align: top; width: 86px; white-space: normal; overflow-wrap: normal; text-align: center;\" xmlns=\"http://www.w3.org/1999/xhtml\"><div style=\"display:inline-block;text-align:inherit;text-decoration:inherit;\" xmlns=\"http://www.w3.org/1999/xhtml\">grammatical number</div></div></foreignObject><text fill=\"#000000\" font-family=\"Helvetica\" font-size=\"12px\" text-anchor=\"middle\" x=\"43\" y=\"19\">grammatical number</text></switch></g><path d=\"M 606 157 L 596 139\" fill=\"none\" pointer-events=\"none\" stroke=\"#67ab9f\" stroke-miterlimit=\"10\"/><ellipse cx=\"640\" cy=\"85\" fill=\"#d5e8d4\" pointer-events=\"none\" rx=\"35\" ry=\"15\" stroke=\"#000000\"/><g transform=\"translate(620.5,78.5)\"><switch><foreignObject height=\"12\" pointer-events=\"all\" requiredFeatures=\"http://www.w3.org/TR/SVG11/feature#Extensibility\" style=\"overflow:visible;\" width=\"38\"><div style=\"display: inline-block; font-size: 12px; font-family: Helvetica; color: rgb(0, 0, 0); line-height: 1.2; vertical-align: top; width: 38px; white-space: nowrap; overflow-wrap: normal; text-align: center;\" xmlns=\"http://www.w3.org/1999/xhtml\"><div style=\"display:inline-block;text-align:inherit;text-decoration:inherit;\" xmlns=\"http://www.w3.org/1999/xhtml\">gender</div></div></foreignObject><text fill=\"#000000\" font-family=\"Helvetica\" font-size=\"12px\" text-anchor=\"middle\" x=\"19\" y=\"12\">gender</text></switch></g><path d=\"M 646 152 L 640 100\" fill=\"none\" pointer-events=\"none\" stroke=\"#67ab9f\" stroke-miterlimit=\"10\"/><path d=\"M 820 425 L 855 425\" fill=\"none\" pointer-events=\"none\" stroke=\"#67ab9f\" stroke-miterlimit=\"10\"/><ellipse cx=\"890\" cy=\"425\" fill=\"#d5e8d4\" pointer-events=\"none\" rx=\"35\" ry=\"15\" stroke=\"#000000\"/><g transform=\"translate(860.5,418.5)\"><switch><foreignObject height=\"12\" pointer-events=\"all\" requiredFeatures=\"http://www.w3.org/TR/SVG11/feature#Extensibility\" style=\"overflow:visible;\" width=\"58\"><div style=\"display: inline-block; font-size: 12px; font-family: Helvetica; color: rgb(0, 0, 0); line-height: 1.2; vertical-align: top; width: 60px; white-space: nowrap; overflow-wrap: normal; text-align: center;\" xmlns=\"http://www.w3.org/1999/xhtml\"><div style=\"display:inline-block;text-align:inherit;text-decoration:inherit;\" xmlns=\"http://www.w3.org/1999/xhtml\">preposition</div></div></foreignObject><text fill=\"#000000\" font-family=\"Helvetica\" font-size=\"12px\" text-anchor=\"middle\" x=\"29\" y=\"12\">preposition</text></switch></g><ellipse cx=\"690\" cy=\"120\" fill=\"#d5e8d4\" pointer-events=\"none\" rx=\"35\" ry=\"15\" stroke=\"#000000\"/><g transform=\"translate(676.5,113.5)\"><switch><foreignObject height=\"12\" pointer-events=\"all\" requiredFeatures=\"http://www.w3.org/TR/SVG11/feature#Extensibility\" style=\"overflow:visible;\" width=\"26\"><div style=\"display: inline-block; font-size: 12px; font-family: Helvetica; color: rgb(0, 0, 0); line-height: 1.2; vertical-align: top; width: 26px; white-space: nowrap; overflow-wrap: normal; text-align: center;\" xmlns=\"http://www.w3.org/1999/xhtml\"><div style=\"display:inline-block;text-align:inherit;text-decoration:inherit;\" xmlns=\"http://www.w3.org/1999/xhtml\">case</div></div></foreignObject><text fill=\"#000000\" font-family=\"Helvetica\" font-size=\"12px\" text-anchor=\"middle\" x=\"13\" y=\"12\">case</text></switch></g><path d=\"M 677.5 150 L 683.85 134.77\" fill=\"none\" pointer-events=\"none\" stroke=\"#67ab9f\" stroke-miterlimit=\"10\"/><rect fill=\"#ffffcc\" height=\"60\" pointer-events=\"none\" rx=\"9\" ry=\"9\" stroke=\"#000000\" width=\"120\" x=\"120\" y=\"595\"/><g transform=\"translate(130.5,618.5)\"><switch><foreignObject height=\"12\" pointer-events=\"all\" requiredFeatures=\"http://www.w3.org/TR/SVG11/feature#Extensibility\" style=\"overflow:visible;\" width=\"98\"><div style=\"display: inline-block; font-size: 12px; font-family: Helvetica; color: rgb(0, 0, 0); line-height: 1.2; vertical-align: top; width: 98px; white-space: nowrap; overflow-wrap: normal; text-align: center;\" xmlns=\"http://www.w3.org/1999/xhtml\"><div style=\"display:inline-block;text-align:inherit;text-decoration:inherit;\" xmlns=\"http://www.w3.org/1999/xhtml\">Unchecked Words</div></div></foreignObject><text fill=\"#000000\" font-family=\"Helvetica\" font-size=\"12px\" text-anchor=\"middle\" x=\"49\" y=\"12\">Unchecked Words</text></switch></g><path d=\"M 180 505 L 205 530 L 180 555 L 155 530 Z\" fill=\"#d4e1f5\" pointer-events=\"none\" stroke=\"#000000\" stroke-miterlimit=\"10\"/><g transform=\"translate(163.5,523.5)\"><switch><foreignObject height=\"12\" pointer-events=\"all\" requiredFeatures=\"http://www.w3.org/TR/SVG11/feature#Extensibility\" style=\"overflow:visible;\" width=\"32\"><div style=\"display: inline-block; font-size: 12px; font-family: Helvetica; color: rgb(0, 0, 0); line-height: 1.2; vertical-align: top; width: 34px; white-space: nowrap; overflow-wrap: normal; text-align: center;\" xmlns=\"http://www.w3.org/1999/xhtml\"><div style=\"display:inline-block;text-align:inherit;text-decoration:inherit;\" xmlns=\"http://www.w3.org/1999/xhtml\">inputs</div></div></foreignObject><text fill=\"#000000\" font-family=\"Helvetica\" font-size=\"12px\" text-anchor=\"middle\" x=\"16\" y=\"12\">inputs</text></switch></g><path d=\"M 180 595 L 180 555\" fill=\"none\" pointer-events=\"none\" stroke=\"#000000\" stroke-miterlimit=\"10\"/><path d=\"M 180 505 L 180 465\" fill=\"none\" pointer-events=\"none\" stroke=\"#000000\" stroke-miterlimit=\"10\"/><path d=\"M 440 515 L 440 471.37\" fill=\"none\" pointer-events=\"none\" stroke=\"#000000\" stroke-miterlimit=\"10\"/><path d=\"M 440 466.12 L 443.5 473.12 L 440 471.37 L 436.5 473.12 Z\" fill=\"#000000\" pointer-events=\"none\" stroke=\"#000000\" stroke-miterlimit=\"10\"/><ellipse cx=\"55\" cy=\"600\" fill=\"#d5e8d4\" pointer-events=\"none\" rx=\"35\" ry=\"15\" stroke=\"#000000\"/><g transform=\"translate(36.5,593.5)\"><switch><foreignObject height=\"12\" pointer-events=\"all\" requiredFeatures=\"http://www.w3.org/TR/SVG11/feature#Extensibility\" style=\"overflow:visible;\" width=\"36\"><div style=\"display: inline-block; font-size: 12px; font-family: Helvetica; color: rgb(0, 0, 0); line-height: 1.2; vertical-align: top; width: 38px; white-space: nowrap; overflow-wrap: normal; text-align: center;\" xmlns=\"http://www.w3.org/1999/xhtml\"><div style=\"display:inline-block;text-align:inherit;text-decoration:inherit;\" xmlns=\"http://www.w3.org/1999/xhtml\">person</div></div></foreignObject><text fill=\"#000000\" font-family=\"Helvetica\" font-size=\"12px\" text-anchor=\"middle\" x=\"18\" y=\"12\">person</text></switch></g><path d=\"M 90 600 L 120 610\" fill=\"none\" pointer-events=\"none\" stroke=\"#67ab9f\" stroke-miterlimit=\"10\"/><ellipse cx=\"45\" cy=\"640\" fill=\"#d5e8d4\" pointer-events=\"none\" rx=\"45\" ry=\"20\" stroke=\"#000000\"/><g transform=\"translate(1.5,626.5)\"><switch><foreignObject height=\"26\" pointer-events=\"all\" requiredFeatures=\"http://www.w3.org/TR/SVG11/feature#Extensibility\" style=\"overflow:visible;\" width=\"86\"><div style=\"display: inline-block; font-size: 12px; font-family: Helvetica; color: rgb(0, 0, 0); line-height: 1.2; vertical-align: top; width: 86px; white-space: normal; overflow-wrap: normal; text-align: center;\" xmlns=\"http://www.w3.org/1999/xhtml\"><div style=\"display:inline-block;text-align:inherit;text-decoration:inherit;\" xmlns=\"http://www.w3.org/1999/xhtml\">grammatical number</div></div></foreignObject><text fill=\"#000000\" font-family=\"Helvetica\" font-size=\"12px\" text-anchor=\"middle\" x=\"43\" y=\"19\">grammatical number</text></switch></g><path d=\"M 120 640 L 90 640\" fill=\"none\" pointer-events=\"none\" stroke=\"#67ab9f\" stroke-miterlimit=\"10\"/><ellipse cx=\"55\" cy=\"680\" fill=\"#d5e8d4\" pointer-events=\"none\" rx=\"35\" ry=\"15\" stroke=\"#000000\"/><g transform=\"translate(35.5,673.5)\"><switch><foreignObject height=\"12\" pointer-events=\"all\" requiredFeatures=\"http://www.w3.org/TR/SVG11/feature#Extensibility\" style=\"overflow:visible;\" width=\"38\"><div style=\"display: inline-block; font-size: 12px; font-family: Helvetica; color: rgb(0, 0, 0); line-height: 1.2; vertical-align: top; width: 38px; white-space: nowrap; overflow-wrap: normal; text-align: center;\" xmlns=\"http://www.w3.org/1999/xhtml\"><div style=\"display:inline-block;text-align:inherit;text-decoration:inherit;\" xmlns=\"http://www.w3.org/1999/xhtml\">gender</div></div></foreignObject><text fill=\"#000000\" font-family=\"Helvetica\" font-size=\"12px\" text-anchor=\"middle\" x=\"19\" y=\"12\">gender</text></switch></g><path d=\"M 123 655 L 80 669\" fill=\"none\" pointer-events=\"none\" stroke=\"#67ab9f\" stroke-miterlimit=\"10\"/><ellipse cx=\"140\" cy=\"702\" fill=\"#d5e8d4\" pointer-events=\"none\" rx=\"35\" ry=\"15\" stroke=\"#000000\"/><g transform=\"translate(126.5,695.5)\"><switch><foreignObject height=\"12\" pointer-events=\"all\" requiredFeatures=\"http://www.w3.org/TR/SVG11/feature#Extensibility\" style=\"overflow:visible;\" width=\"26\"><div style=\"display: inline-block; font-size: 12px; font-family: Helvetica; color: rgb(0, 0, 0); line-height: 1.2; vertical-align: top; width: 26px; white-space: nowrap; overflow-wrap: normal; text-align: center;\" xmlns=\"http://www.w3.org/1999/xhtml\"><div style=\"display:inline-block;text-align:inherit;text-decoration:inherit;\" xmlns=\"http://www.w3.org/1999/xhtml\">case</div></div></foreignObject><text fill=\"#000000\" font-family=\"Helvetica\" font-size=\"12px\" text-anchor=\"middle\" x=\"13\" y=\"12\">case</text></switch></g><path d=\"M 137 656 L 140 687\" fill=\"none\" pointer-events=\"none\" stroke=\"#67ab9f\" stroke-miterlimit=\"10\"/><ellipse cx=\"215\" cy=\"701\" fill=\"#d5e8d4\" pointer-events=\"none\" rx=\"35\" ry=\"15\" stroke=\"#000000\"/><g transform=\"translate(181.5,694.5)\"><switch><foreignObject height=\"12\" pointer-events=\"all\" requiredFeatures=\"http://www.w3.org/TR/SVG11/feature#Extensibility\" style=\"overflow:visible;\" width=\"66\"><div style=\"display: inline-block; font-size: 12px; font-family: Helvetica; color: rgb(0, 0, 0); line-height: 1.2; vertical-align: top; width: 66px; white-space: nowrap; overflow-wrap: normal; text-align: center;\" xmlns=\"http://www.w3.org/1999/xhtml\"><div style=\"display:inline-block;text-align:inherit;text-decoration:inherit;\" xmlns=\"http://www.w3.org/1999/xhtml\">comparative</div></div></foreignObject><text fill=\"#000000\" font-family=\"Helvetica\" font-size=\"12px\" text-anchor=\"middle\" x=\"33\" y=\"12\">comparative</text></switch></g><path d=\"M 194 656 L 215 686\" fill=\"none\" pointer-events=\"none\" stroke=\"#67ab9f\" stroke-miterlimit=\"10\"/><ellipse cx=\"290\" cy=\"686\" fill=\"#d5e8d4\" pointer-events=\"none\" rx=\"35\" ry=\"16\" stroke=\"#000000\"/><g transform=\"translate(260.5,679.5)\"><switch><foreignObject height=\"12\" pointer-events=\"all\" requiredFeatures=\"http://www.w3.org/TR/SVG11/feature#Extensibility\" style=\"overflow:visible;\" width=\"58\"><div style=\"display: inline-block; font-size: 12px; font-family: Helvetica; color: rgb(0, 0, 0); line-height: 1.2; vertical-align: top; width: 60px; white-space: nowrap; overflow-wrap: normal; text-align: center;\" xmlns=\"http://www.w3.org/1999/xhtml\"><div style=\"display:inline-block;text-align:inherit;text-decoration:inherit;\" xmlns=\"http://www.w3.org/1999/xhtml\">superlative</div></div></foreignObject><text fill=\"#000000\" font-family=\"Helvetica\" font-size=\"12px\" text-anchor=\"middle\" x=\"29\" y=\"12\">superlative</text></switch></g><path d=\"M 265 675 L 232 657\" fill=\"none\" pointer-events=\"none\" stroke=\"#67ab9f\" stroke-miterlimit=\"10\"/><ellipse cx=\"295\" cy=\"650\" fill=\"#d5e8d4\" pointer-events=\"none\" rx=\"35\" ry=\"15\" stroke=\"#000000\"/><g transform=\"translate(278.5,643.5)\"><switch><foreignObject height=\"12\" pointer-events=\"all\" requiredFeatures=\"http://www.w3.org/TR/SVG11/feature#Extensibility\" style=\"overflow:visible;\" width=\"32\"><div style=\"display: inline-block; font-size: 12px; font-family: Helvetica; color: rgb(0, 0, 0); line-height: 1.2; vertical-align: top; width: 34px; white-space: nowrap; overflow-wrap: normal; text-align: center;\" xmlns=\"http://www.w3.org/1999/xhtml\"><div style=\"display:inline-block;text-align:inherit;text-decoration:inherit;\" xmlns=\"http://www.w3.org/1999/xhtml\">article</div></div></foreignObject><text fill=\"#000000\" font-family=\"Helvetica\" font-size=\"12px\" text-anchor=\"middle\" x=\"16\" y=\"12\">article</text></switch></g><path d=\"M 240 643.75 L 260 650\" fill=\"none\" pointer-events=\"none\" stroke=\"#67ab9f\" stroke-miterlimit=\"10\"/><path d=\"M 320 639 L 320 639\" fill=\"none\" pointer-events=\"none\" stroke=\"#000000\" stroke-miterlimit=\"10\"/><path d=\"M 320 639 L 320 639 L 320 639 L 320 639 Z\" fill=\"#000000\" pointer-events=\"none\" stroke=\"#000000\" stroke-miterlimit=\"10\"/><ellipse cx=\"290\" cy=\"614\" fill=\"#d5e8d4\" pointer-events=\"none\" rx=\"35\" ry=\"15\" stroke=\"#000000\"/><g transform=\"translate(274.5,607.5)\"><switch><foreignObject height=\"12\" pointer-events=\"all\" requiredFeatures=\"http://www.w3.org/TR/SVG11/feature#Extensibility\" style=\"overflow:visible;\" width=\"30\"><div style=\"display: inline-block; font-size: 12px; font-family: Helvetica; color: rgb(0, 0, 0); line-height: 1.2; vertical-align: top; width: 30px; white-space: nowrap; overflow-wrap: normal; text-align: center;\" xmlns=\"http://www.w3.org/1999/xhtml\"><div style=\"display:inline-block;text-align:inherit;text-decoration:inherit;\" xmlns=\"http://www.w3.org/1999/xhtml\">tense</div></div></foreignObject><text fill=\"#000000\" font-family=\"Helvetica\" font-size=\"12px\" text-anchor=\"middle\" x=\"15\" y=\"12\">tense</text></switch></g><path d=\"M 241 618 L 255 614\" fill=\"none\" pointer-events=\"none\" stroke=\"#67ab9f\" stroke-miterlimit=\"10\"/><path d=\"M 161 656 L 180 720\" fill=\"none\" pointer-events=\"none\" stroke=\"#67ab9f\" stroke-miterlimit=\"10\"/><ellipse cx=\"180\" cy=\"740\" fill=\"#d5e8d4\" pointer-events=\"none\" rx=\"45\" ry=\"20\" stroke=\"#000000\"/><g transform=\"translate(144.5,733.5)\"><switch><foreignObject height=\"12\" pointer-events=\"all\" requiredFeatures=\"http://www.w3.org/TR/SVG11/feature#Extensibility\" style=\"overflow:visible;\" width=\"70\"><div style=\"display: inline-block; font-size: 12px; font-family: Helvetica; color: rgb(0, 0, 0); line-height: 1.2; vertical-align: top; width: 72px; white-space: nowrap; overflow-wrap: normal; text-align: center;\" xmlns=\"http://www.w3.org/1999/xhtml\"><div style=\"display:inline-block;text-align:inherit;text-decoration:inherit;\" xmlns=\"http://www.w3.org/1999/xhtml\">verb strength</div></div></foreignObject><text fill=\"#000000\" font-family=\"Helvetica\" font-size=\"12px\" text-anchor=\"middle\" x=\"35\" y=\"12\">verb strength</text></switch></g><ellipse cx=\"295\" cy=\"730\" fill=\"#d5e8d4\" pointer-events=\"none\" rx=\"45\" ry=\"20\" stroke=\"#000000\"/><g transform=\"translate(251.5,716.5)\"><switch><foreignObject height=\"26\" pointer-events=\"all\" requiredFeatures=\"http://www.w3.org/TR/SVG11/feature#Extensibility\" style=\"overflow:visible;\" width=\"86\"><div style=\"display: inline-block; font-size: 12px; font-family: Helvetica; color: rgb(0, 0, 0); line-height: 1.2; vertical-align: top; width: 86px; white-space: normal; overflow-wrap: normal; text-align: center;\" xmlns=\"http://www.w3.org/1999/xhtml\"><div style=\"display:inline-block;text-align:inherit;text-decoration:inherit;\" xmlns=\"http://www.w3.org/1999/xhtml\">verb seperability</div></div></foreignObject><text fill=\"#000000\" font-family=\"Helvetica\" font-size=\"12px\" text-anchor=\"middle\" x=\"43\" y=\"19\">verb seperability</text></switch></g><path d=\"M 204 656 L 274 715\" fill=\"none\" pointer-events=\"none\" stroke=\"#67ab9f\" stroke-miterlimit=\"10\"/><ellipse cx=\"70\" cy=\"717\" fill=\"#d5e8d4\" pointer-events=\"none\" rx=\"35\" ry=\"15\" stroke=\"#000000\"/><g transform=\"translate(40.5,710.5)\"><switch><foreignObject height=\"12\" pointer-events=\"all\" requiredFeatures=\"http://www.w3.org/TR/SVG11/feature#Extensibility\" style=\"overflow:visible;\" width=\"58\"><div style=\"display: inline-block; font-size: 12px; font-family: Helvetica; color: rgb(0, 0, 0); line-height: 1.2; vertical-align: top; width: 60px; white-space: nowrap; overflow-wrap: normal; text-align: center;\" xmlns=\"http://www.w3.org/1999/xhtml\"><div style=\"display:inline-block;text-align:inherit;text-decoration:inherit;\" xmlns=\"http://www.w3.org/1999/xhtml\">preposition</div></div></foreignObject><text fill=\"#000000\" font-family=\"Helvetica\" font-size=\"12px\" text-anchor=\"middle\" x=\"29\" y=\"12\">preposition</text></switch></g><path d=\"M 129 655 L 95 706\" fill=\"none\" pointer-events=\"none\" stroke=\"#67ab9f\" stroke-miterlimit=\"10\"/><rect fill=\"#ffffcc\" height=\"60\" pointer-events=\"none\" rx=\"9\" ry=\"9\" stroke=\"#000000\" width=\"120\" x=\"780\" y=\"75\"/><g transform=\"translate(802.5,98.5)\"><switch><foreignObject height=\"12\" pointer-events=\"all\" requiredFeatures=\"http://www.w3.org/TR/SVG11/feature#Extensibility\" style=\"overflow:visible;\" width=\"74\"><div style=\"display: inline-block; font-size: 12px; font-family: Helvetica; color: rgb(0, 0, 0); line-height: 1.2; vertical-align: top; width: 76px; white-space: nowrap; overflow-wrap: normal; text-align: center;\" xmlns=\"http://www.w3.org/1999/xhtml\"><div style=\"display:inline-block;text-align:inherit;text-decoration:inherit;\" xmlns=\"http://www.w3.org/1999/xhtml\">definite Article</div></div></foreignObject><text fill=\"#000000\" font-family=\"Helvetica\" font-size=\"12px\" text-anchor=\"middle\" x=\"37\" y=\"12\">definite Article</text></switch></g><rect fill=\"#ffffcc\" height=\"60\" pointer-events=\"none\" rx=\"9\" ry=\"9\" stroke=\"#000000\" width=\"120\" x=\"870\" y=\"195\"/><g transform=\"translate(887.5,218.5)\"><switch><foreignObject height=\"12\" pointer-events=\"all\" requiredFeatures=\"http://www.w3.org/TR/SVG11/feature#Extensibility\" style=\"overflow:visible;\" width=\"84\"><div style=\"display: inline-block; font-size: 12px; font-family: Helvetica; color: rgb(0, 0, 0); line-height: 1.2; vertical-align: top; width: 86px; white-space: nowrap; overflow-wrap: normal; text-align: center;\" xmlns=\"http://www.w3.org/1999/xhtml\"><div style=\"display:inline-block;text-align:inherit;text-decoration:inherit;\" xmlns=\"http://www.w3.org/1999/xhtml\">indefinite Article</div></div></foreignObject><text fill=\"#000000\" font-family=\"Helvetica\" font-size=\"12px\" text-anchor=\"middle\" x=\"42\" y=\"12\">indefinite Article</text></switch></g><ellipse cx=\"875\" cy=\"500\" fill=\"#d5e8d4\" pointer-events=\"none\" rx=\"35\" ry=\"15\" stroke=\"#000000\"/><g transform=\"translate(858.5,493.5)\"><switch><foreignObject height=\"12\" pointer-events=\"all\" requiredFeatures=\"http://www.w3.org/TR/SVG11/feature#Extensibility\" style=\"overflow:visible;\" width=\"32\"><div style=\"display: inline-block; font-size: 12px; font-family: Helvetica; color: rgb(0, 0, 0); line-height: 1.2; vertical-align: top; width: 34px; white-space: nowrap; overflow-wrap: normal; text-align: center;\" xmlns=\"http://www.w3.org/1999/xhtml\"><div style=\"display:inline-block;text-align:inherit;text-decoration:inherit;\" xmlns=\"http://www.w3.org/1999/xhtml\">article</div></div></foreignObject><text fill=\"#000000\" font-family=\"Helvetica\" font-size=\"12px\" text-anchor=\"middle\" x=\"16\" y=\"12\">article</text></switch></g><path d=\"M 835 578 L 875 515\" fill=\"none\" pointer-events=\"none\" stroke=\"#67ab9f\" stroke-miterlimit=\"10\"/><ellipse cx=\"955\" cy=\"145\" fill=\"#d5e8d4\" pointer-events=\"none\" rx=\"35\" ry=\"15\" stroke=\"#000000\"/><g transform=\"translate(941.5,138.5)\"><switch><foreignObject height=\"12\" pointer-events=\"all\" requiredFeatures=\"http://www.w3.org/TR/SVG11/feature#Extensibility\" style=\"overflow:visible;\" width=\"26\"><div style=\"display: inline-block; font-size: 12px; font-family: Helvetica; color: rgb(0, 0, 0); line-height: 1.2; vertical-align: top; width: 26px; white-space: nowrap; overflow-wrap: normal; text-align: center;\" xmlns=\"http://www.w3.org/1999/xhtml\"><div style=\"display:inline-block;text-align:inherit;text-decoration:inherit;\" xmlns=\"http://www.w3.org/1999/xhtml\">case</div></div></foreignObject><text fill=\"#000000\" font-family=\"Helvetica\" font-size=\"12px\" text-anchor=\"middle\" x=\"13\" y=\"12\">case</text></switch></g><path d=\"M 900 126.14 L 928 136\" fill=\"none\" pointer-events=\"none\" stroke=\"#67ab9f\" stroke-miterlimit=\"10\"/><ellipse cx=\"950\" cy=\"55\" fill=\"#d5e8d4\" pointer-events=\"none\" rx=\"35\" ry=\"15\" stroke=\"#000000\"/><g transform=\"translate(930.5,48.5)\"><switch><foreignObject height=\"12\" pointer-events=\"all\" requiredFeatures=\"http://www.w3.org/TR/SVG11/feature#Extensibility\" style=\"overflow:visible;\" width=\"38\"><div style=\"display: inline-block; font-size: 12px; font-family: Helvetica; color: rgb(0, 0, 0); line-height: 1.2; vertical-align: top; width: 38px; white-space: nowrap; overflow-wrap: normal; text-align: center;\" xmlns=\"http://www.w3.org/1999/xhtml\"><div style=\"display:inline-block;text-align:inherit;text-decoration:inherit;\" xmlns=\"http://www.w3.org/1999/xhtml\">gender</div></div></foreignObject><text fill=\"#000000\" font-family=\"Helvetica\" font-size=\"12px\" text-anchor=\"middle\" x=\"19\" y=\"12\">gender</text></switch></g><path d=\"M 900 82 L 928.24 66.75\" fill=\"none\" pointer-events=\"none\" stroke=\"#67ab9f\" stroke-miterlimit=\"10\"/><ellipse cx=\"960\" cy=\"102\" fill=\"#d5e8d4\" pointer-events=\"none\" rx=\"45\" ry=\"20\" stroke=\"#000000\"/><g transform=\"translate(916.5,88.5)\"><switch><foreignObject height=\"26\" pointer-events=\"all\" requiredFeatures=\"http://www.w3.org/TR/SVG11/feature#Extensibility\" style=\"overflow:visible;\" width=\"86\"><div style=\"display: inline-block; font-size: 12px; font-family: Helvetica; color: rgb(0, 0, 0); line-height: 1.2; vertical-align: top; width: 86px; white-space: normal; overflow-wrap: normal; text-align: center;\" xmlns=\"http://www.w3.org/1999/xhtml\"><div style=\"display:inline-block;text-align:inherit;text-decoration:inherit;\" xmlns=\"http://www.w3.org/1999/xhtml\">grammatical number</div></div></foreignObject><text fill=\"#000000\" font-family=\"Helvetica\" font-size=\"12px\" text-anchor=\"middle\" x=\"43\" y=\"19\">grammatical number</text></switch></g><path d=\"M 903 102 L 915 102\" fill=\"none\" pointer-events=\"none\" stroke=\"#67ab9f\" stroke-miterlimit=\"10\"/><ellipse cx=\"815\" cy=\"195\" fill=\"#d5e8d4\" pointer-events=\"none\" rx=\"35\" ry=\"15\" stroke=\"#000000\"/><g transform=\"translate(795.5,188.5)\"><switch><foreignObject height=\"12\" pointer-events=\"all\" requiredFeatures=\"http://www.w3.org/TR/SVG11/feature#Extensibility\" style=\"overflow:visible;\" width=\"38\"><div style=\"display: inline-block; font-size: 12px; font-family: Helvetica; color: rgb(0, 0, 0); line-height: 1.2; vertical-align: top; width: 38px; white-space: nowrap; overflow-wrap: normal; text-align: center;\" xmlns=\"http://www.w3.org/1999/xhtml\"><div style=\"display:inline-block;text-align:inherit;text-decoration:inherit;\" xmlns=\"http://www.w3.org/1999/xhtml\">gender</div></div></foreignObject><text fill=\"#000000\" font-family=\"Helvetica\" font-size=\"12px\" text-anchor=\"middle\" x=\"19\" y=\"12\">gender</text></switch></g><path d=\"M 850 235 L 870 225\" fill=\"none\" pointer-events=\"none\" stroke=\"#67ab9f\" stroke-miterlimit=\"10\"/><path d=\"M 870 210 L 850 195\" fill=\"none\" pointer-events=\"none\" stroke=\"#67ab9f\" stroke-miterlimit=\"10\"/><ellipse cx=\"815\" cy=\"235\" fill=\"#d5e8d4\" pointer-events=\"none\" rx=\"35\" ry=\"15\" stroke=\"#000000\"/><g transform=\"translate(801.5,228.5)\"><switch><foreignObject height=\"12\" pointer-events=\"all\" requiredFeatures=\"http://www.w3.org/TR/SVG11/feature#Extensibility\" style=\"overflow:visible;\" width=\"26\"><div style=\"display: inline-block; font-size: 12px; font-family: Helvetica; color: rgb(0, 0, 0); line-height: 1.2; vertical-align: top; width: 26px; white-space: nowrap; overflow-wrap: normal; text-align: center;\" xmlns=\"http://www.w3.org/1999/xhtml\"><div style=\"display:inline-block;text-align:inherit;text-decoration:inherit;\" xmlns=\"http://www.w3.org/1999/xhtml\">case</div></div></foreignObject><text fill=\"#000000\" font-family=\"Helvetica\" font-size=\"12px\" text-anchor=\"middle\" x=\"13\" y=\"12\">case</text></switch></g></g></svg>"
      ],
      "text/plain": [
       "<IPython.core.display.SVG object>"
      ]
     },
     "metadata": {},
     "output_type": "display_data"
    }
   ],
   "source": [
    "display(SVG(filename='./ER_vocabTrainer.svg'))"
   ]
  },
  {
   "cell_type": "markdown",
   "metadata": {},
   "source": []
  },
  {
   "cell_type": "code",
   "execution_count": 5,
   "metadata": {},
   "outputs": [
    {
     "data": {
      "text/plain": [
       "[('adjectives',),\n",
       " ('definiteArticles',),\n",
       " ('indefiniteArticles',),\n",
       " ('inputs',),\n",
       " ('nouns',),\n",
       " ('personalPronouns',),\n",
       " ('roots',),\n",
       " ('uncheckedWords',),\n",
       " ('users',),\n",
       " ('verbs',),\n",
       " ('words',),\n",
       " ('worksWith',)]"
      ]
     },
     "execution_count": 5,
     "metadata": {},
     "output_type": "execute_result"
    }
   ],
   "source": [
    "conn.execute(\"SHOW TABLES;\").fetchall()"
   ]
  },
  {
   "cell_type": "markdown",
   "metadata": {},
   "source": [
    "Previously nouns and definite articles, both in nominative, could be querried.\n",
    "This should still be possible with the new design:"
   ]
  },
  {
   "cell_type": "code",
   "execution_count": 12,
   "metadata": {},
   "outputs": [
    {
     "data": {
      "text/plain": [
       "[('ein', 'N'),\n",
       " ('eine', 'N'),\n",
       " ('ein', 'N'),\n",
       " ('eines', 'G'),\n",
       " ('einer', 'G'),\n",
       " ('eines', 'G'),\n",
       " ('einem', 'D'),\n",
       " ('einer', 'D'),\n",
       " ('einem', 'D'),\n",
       " ('einen', 'A'),\n",
       " ('eine', 'A'),\n",
       " ('ein', 'A')]"
      ]
     },
     "execution_count": 12,
     "metadata": {},
     "output_type": "execute_result"
    }
   ],
   "source": [
    "conn.execute(\"SELECT indefiniteArticles_article, indefiniteArticles_case FROM indefiniteArticles;\").fetchall()"
   ]
  },
  {
   "cell_type": "code",
   "execution_count": 21,
   "metadata": {},
   "outputs": [
    {
     "data": {
      "text/plain": [
       "[('Anzüge', 'M', 1),\n",
       " ('Bluse', 'F', 1),\n",
       " ('Blusen', 'F', 1),\n",
       " ('Erdgeschoss', 'N', 1),\n",
       " ('Größe', 'F', 1),\n",
       " ('Gürtel', 'M', 1),\n",
       " ('Hemd', 'N', 1),\n",
       " ('Hose', 'F', 1),\n",
       " ('Kleid', 'N', 1),\n",
       " ('Kleidung', 'F', 1),\n",
       " ('Kostüm', 'N', 1),\n",
       " ('Krawatte', 'F', 1),\n",
       " ('Mantel', 'M', 1),\n",
       " ('Ohrring', 'M', 1),\n",
       " ('Orientierung', 'F', 1),\n",
       " ('Pullover', 'M', 1),\n",
       " ('Rock', 'M', 1)]"
      ]
     },
     "execution_count": 21,
     "metadata": {},
     "output_type": "execute_result"
    }
   ],
   "source": [
    "conn.execute(\"SELECT nouns_noun, nouns_gender, nouns_nominative FROM nouns  WHERE nouns_nominative = 1;\").fetchall()"
   ]
  },
  {
   "cell_type": "code",
   "execution_count": 74,
   "metadata": {},
   "outputs": [
    {
     "data": {
      "text/plain": [
       "[('der', 'Gürtel'),\n",
       " ('der', 'Mantel'),\n",
       " ('der', 'Ohrring'),\n",
       " ('der', 'Pullover'),\n",
       " ('der', 'Rock'),\n",
       " ('die', 'Bluse'),\n",
       " ('die', 'Größe'),\n",
       " ('die', 'Hose'),\n",
       " ('die', 'Kleidung'),\n",
       " ('die', 'Krawatte'),\n",
       " ('die', 'Orientierung'),\n",
       " ('das', 'Erdgeschoss'),\n",
       " ('das', 'Hemd'),\n",
       " ('das', 'Kleid'),\n",
       " ('das', 'Kostüm')]"
      ]
     },
     "execution_count": 74,
     "metadata": {},
     "output_type": "execute_result"
    }
   ],
   "source": [
    "\n",
    "conn.execute(\"SELECT definiteArticles_article, nouns_noun \\\n",
    "             FROM nouns, definiteArticles \\\n",
    "             WHERE nouns_nominative = 1 AND definiteArticles_case = 'N' AND nouns_gender = definiteArticles_gender \\\n",
    "             AND nouns_grammaticalNumber = 'S';\").fetchall()"
   ]
  },
  {
   "cell_type": "markdown",
   "metadata": {},
   "source": [
    "This works! Let's look at two more querries with nouns that have not been possible before - matching them with articles and adjectives in the right case.  "
   ]
  },
  {
   "cell_type": "code",
   "execution_count": 88,
   "metadata": {},
   "outputs": [
    {
     "data": {
      "text/plain": [
       "[('einem', 'schönen', 'Gürtel'),\n",
       " ('einem', 'schönen', 'Mantel'),\n",
       " ('einem', 'schönen', 'Ohrring'),\n",
       " ('einem', 'schönen', 'Pullover'),\n",
       " ('einem', 'schönen', 'Rock'),\n",
       " ('einer', 'schönen', 'Bluse'),\n",
       " ('einer', 'schönen', 'Größe'),\n",
       " ('einer', 'schönen', 'Hose'),\n",
       " ('einer', 'schönen', 'Kleidung'),\n",
       " ('einer', 'schönen', 'Krawatte'),\n",
       " ('einer', 'schönen', 'Orientierung'),\n",
       " ('einem', 'schönen', 'Erdgeschoss'),\n",
       " ('einem', 'schönen', 'Hemd'),\n",
       " ('einem', 'schönen', 'Kleid'),\n",
       " ('einem', 'schönen', 'Kostüm')]"
      ]
     },
     "execution_count": 88,
     "metadata": {},
     "output_type": "execute_result"
    }
   ],
   "source": [
    "# Match adjectives and nouns in dative singular.\n",
    "conn.execute(\"SELECT indefiniteArticles_article, adjectives_adjective, nouns_noun \\\n",
    "             FROM nouns, adjectives, indefiniteArticles \\\n",
    "             WHERE adjectives_case = 'D' AND nouns_dative = 1 AND indefiniteArticles_case = 'D' \\\n",
    "             AND adjectives_withIndefiniteArticle = 1 \\\n",
    "             AND adjectives_grammaticalNumber = 'S' AND nouns_grammaticalNumber = 'S' \\\n",
    "             AND nouns_gender = indefiniteArticles_gender AND adjectives_female = 1;\").fetchall()   \n"
   ]
  },
  {
   "cell_type": "markdown",
   "metadata": {},
   "source": [
    "Nice! The final goal is to offer users to work with their own selection of words. \n",
    "Let's see if that works. "
   ]
  },
  {
   "cell_type": "code",
   "execution_count": null,
   "metadata": {},
   "outputs": [],
   "source": []
  },
  {
   "cell_type": "code",
   "execution_count": 105,
   "metadata": {},
   "outputs": [
    {
     "data": {
      "text/plain": [
       "[('testUser1', 'Anzug', 'suit'),\n",
       " ('testUser1', 'Gürtel', 'belt'),\n",
       " ('testUser1', 'Hose', 'trousers'),\n",
       " ('testUser1', 'Kleidung', 'clothes'),\n",
       " ('testUser1', 'Krawatte', 'tie'),\n",
       " ('testUser1', 'Ohrringe', 'earring'),\n",
       " ('testUser1', 'Rock', 'skirt'),\n",
       " ('testUser1', 'Erdgeschoss', 'ground floor'),\n",
       " ('testUser1', 'schön', 'beautiful'),\n",
       " ('testUser1', 'gewöhnen', 'to get used to'),\n",
       " ('testUser1', 'ich', 'I'),\n",
       " ('testUser1', 'er', 'he'),\n",
       " ('testUser1', 'es', 'it'),\n",
       " ('testUser1', 'ihr', 'you'),\n",
       " ('testUser2', 'Bluse', 'blouse'),\n",
       " ('testUser2', 'Hemd', 'shirt'),\n",
       " ('testUser2', 'Kleid', 'dress'),\n",
       " ('testUser2', 'Kostüm', 'suit'),\n",
       " ('testUser2', 'Mantel', 'coat'),\n",
       " ('testUser2', 'Pullover', 'jumper'),\n",
       " ('testUser2', 'Orientierung', 'finding your way around'),\n",
       " ('testUser2', 'Größe', 'size'),\n",
       " ('testUser2', 'anbieten', 'to offer'),\n",
       " ('testUser2', 'hoffen', 'to hope'),\n",
       " ('testUser2', 'du', 'you'),\n",
       " ('testUser2', 'sie', 'she'),\n",
       " ('testUser2', 'wir', 'we'),\n",
       " ('testUser2', 'sie', 'they')]"
      ]
     },
     "execution_count": 105,
     "metadata": {},
     "output_type": "execute_result"
    }
   ],
   "source": [
    "conn.execute(\"SELECT users_name, words_word, words_englishTranslation \\\n",
    "              FROM worksWith, users, words \\\n",
    "              WHERE users_users_id = users_id AND words_words_id = words_id;\").fetchall()"
   ]
  },
  {
   "cell_type": "markdown",
   "metadata": {},
   "source": [
    "### Open Source Tools and Wordlists\n",
    "I found 2 potentially useful tools. The first is a wordlist and comes from the technical university TU Chemnitz in Germany (https://www-user.tu-chemnitz.de/~fri/ding/). It contains 345.000 entries of German nouns and their English translation. The second is a API calld linguatools (https://linguatools.org/language-apis/linguatools-translate-api/) which can be used to translate words and check their spelling. Due to time constraintes, these ressources will be implemented in the future."
   ]
  },
  {
   "cell_type": "markdown",
   "metadata": {},
   "source": [
    "### Discussion, Conclusion, and Future Development"
   ]
  },
  {
   "cell_type": "markdown",
   "metadata": {},
   "source": [
    "The data base design itself took most of the time. I created 12 tables instead of the proposed 6 tables. This is because I would like to enable the user to insert new words but into a separate table first. This table is called uncheckedWords. It enables the user to work with their wanted words right away, but the entry cannot introduce mistakes to the core data base. The entries in the uncheckedWords table will be checked by other, advanced learners or myself. Another reason to add more tables than planned was to facilitate many-to-many relationships between the users and words tables as well as between the users and uncheckedWords tables. Furthermore, I decided to keep articles in their separate tables since they are a relatively small finite group of words. The database is deployed on Google Cloud and runs in MySQL.\n",
    "\n",
    "I was able to find a word list with 345.000 entries of German words and their English translation and a translation and spell-checking API, which both will help to ensure correct user input. Unfortunately, I ran out of time to implement them during this project.\n",
    "\n",
    "The structure of the word list is quite different compared to my layout, but I can use it to fill the core words table that only contains the German words in their general form and their English translations. Unfortunately, the grammatical forms are not included in the list and still would need to be put in manually. \n",
    "\n",
    "As might become clear from looking at the querries, I tried to keep one table per wordform to keep the layout as clear as possible. However, this came at the cost of some redundancy in the relations nouns, verbs, and adjectives. I tried to keep the redundancies down by introducing one-hot encodings in several attributes, but this causes the querries to become more complex (due to different systems). \n",
    "\n",
    "Overall, the proposed functionality was achieved. Grammatically correct matches can be made by querrying multiple relations with different word groups. For example, indefinite articles, adjectives and nouns have been matched in the correct case, grammaticalNumber, and gender. I achieved my learning goals of learning how to ensure safe user input, by restricting attributes in their data types (often using enumerate), finding word lists and tools to assist users during input and keeping a separate table with crowed sourcing manual checking for now.\n",
    "\n",
    "In the future, the relations nouns, verbs, and adjectives, which contain redundancies, will be further normalized and the attributes adjusted to follow the same systematic patterns. The word list and the spell-checking and translation API will be implemented. Then, I can develope the frontend application further and connect it to the database. "
   ]
  },
  {
   "cell_type": "code",
   "execution_count": null,
   "metadata": {},
   "outputs": [],
   "source": []
  }
 ],
 "metadata": {
  "kernelspec": {
   "display_name": "Python 3",
   "language": "python",
   "name": "python3"
  },
  "language_info": {
   "codemirror_mode": {
    "name": "ipython",
    "version": 3
   },
   "file_extension": ".py",
   "mimetype": "text/x-python",
   "name": "python",
   "nbconvert_exporter": "python",
   "pygments_lexer": "ipython3",
   "version": "3.7.4"
  }
 },
 "nbformat": 4,
 "nbformat_minor": 2
}
